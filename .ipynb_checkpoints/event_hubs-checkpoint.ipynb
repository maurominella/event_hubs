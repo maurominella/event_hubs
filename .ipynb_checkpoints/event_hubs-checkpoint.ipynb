{
 "cells": [
  {
   "attachments": {},
   "cell_type": "markdown",
   "id": "e3b26300-a020-4dc1-9f3f-e32c3ac19530",
   "metadata": {},
   "source": [
    "# Libraries and Variables definition\n",
    "## Conda preparation\n",
    "```\n",
    "conda create -n event_hubs python=3.12\n",
    "conda activate event_hubs\n",
    "pip install azure-eventhub azure-eventhub-checkpointstoreblob python-dotenv\n",
    "pip install jupyter\n",
    "jupyter kernelspec uninstall event_hubs\n",
    "python -m ipykernel install --name event_hubs --user\n",
    "jupyter kernelspec list\n",
    "```"
   ]
  },
  {
   "cell_type": "code",
   "execution_count": 1,
   "id": "3bb413ef-1ffc-4cb0-bc73-e9b1f38788f0",
   "metadata": {},
   "outputs": [
    {
     "data": {
      "text/plain": [
       "True"
      ]
     },
     "execution_count": 1,
     "metadata": {},
     "output_type": "execute_result"
    }
   ],
   "source": [
    "import os, urllib.parse, hmac, hashlib, base64, time\n",
    "from dotenv import load_dotenv # requires python-dotenv\n",
    "\n",
    "load_dotenv(\"./../config/credentials_my.env\")"
   ]
  },
  {
   "cell_type": "markdown",
   "id": "752c6358-f93d-4812-897e-2a0dfb7a6917",
   "metadata": {},
   "source": [
    "# Create the Authorization Token"
   ]
  },
  {
   "cell_type": "code",
   "execution_count": 2,
   "id": "280425ae-bb0b-4326-ac7a-7289638eb813",
   "metadata": {},
   "outputs": [
    {
     "name": "stdout",
     "output_type": "stream",
     "text": [
      "SharedAccessSignatur\n"
     ]
    }
   ],
   "source": [
    "def generate_sas_token(uri, key_name, key, expiry=int(time.time() + 3600)):  \n",
    "    string_to_sign = urllib.parse.quote_plus(uri) + '\\n' + str(expiry)  \n",
    "    signature = base64.b64encode(hmac.new(key.encode('utf-8'), string_to_sign.encode('utf-8'), hashlib.sha256).digest()).decode('utf-8')  \n",
    "    token = f'SharedAccessSignature sr={urllib.parse.quote_plus(uri)}&sig={urllib.parse.quote_plus(signature)}&se={expiry}&skn={key_name}'  \n",
    "    return token  \n",
    "\n",
    "uri = os.environ[\"ehn_uri\"]\n",
    "key_name = os.environ[\"ehn_key_name\"]\n",
    "key = os.environ[\"ehn_key\"]\n",
    "expiry = int(time.time() + 365 * 24 * 60 * 60) # Token valid for 1 year\n",
    "\n",
    "  \n",
    "sas_token = generate_sas_token(uri, key_name, key, expiry=expiry)  \n",
    "print(sas_token[:20]) "
   ]
  },
  {
   "cell_type": "markdown",
   "id": "f7fc9039-6575-4232-af41-ea7e764738a9",
   "metadata": {},
   "source": [
    "# Send the HTTP POST Request"
   ]
  },
  {
   "cell_type": "code",
   "execution_count": 3,
   "id": "270df5a7-678c-489a-aa11-bacf05f0f356",
   "metadata": {},
   "outputs": [
    {
     "name": "stdout",
     "output_type": "stream",
     "text": [
      "201\n",
      "\n"
     ]
    }
   ],
   "source": [
    "import requests, random\n",
    "  \n",
    "url = f\"{uri}/messages\"\n",
    "  \n",
    "headers = {  \n",
    "    \"Authorization\": sas_token, \n",
    "    \"Content-Type\": \"application/json\"\n",
    "}  \n",
    "  \n",
    "data = {  \n",
    "    \"value\": \"data\"\n",
    "}\n",
    "\n",
    "for i in range(10):\n",
    "    data[\"value\"] = random.random()\n",
    "    response = requests.post(url, headers=headers, json=data)  \n",
    "  \n",
    "print(response.status_code)  \n",
    "print(response.text)  "
   ]
  },
  {
   "cell_type": "markdown",
   "id": "0dc191e2-e59c-4870-8338-b3e0857aedcd",
   "metadata": {},
   "source": [
    "# Consumer client (with @latest Checkpoint)"
   ]
  },
  {
   "cell_type": "code",
   "execution_count": null,
   "id": "5792bcb7-bc7d-4c51-858d-3910345af9cc",
   "metadata": {},
   "outputs": [
    {
     "name": "stdout",
     "output_type": "stream",
     "text": [
      "Received event 1 from partition: 0. Event data: {\n",
      "  \"your\": \"data\"\n",
      "} \n",
      "Received event 2 from partition: 0. Event data: {\n",
      "  \"your\": \"data2\"\n",
      "} \n",
      "Received event 3 from partition: 0. Event data: {\n",
      "  \"your\": \"data3\"\n",
      "} \n"
     ]
    }
   ],
   "source": [
    "import os  \n",
    "from azure.eventhub import EventHubConsumerClient\n",
    "from azure.eventhub.extensions.checkpointstoreblob import BlobCheckpointStore\n",
    "  \n",
    "# Fetch connection details from environment variables  \n",
    "connection_str = os.environ[\"ehn_connection_string\"]  \n",
    "consumer_group = os.environ[\"ehn_consumer_group\"]  # Default consumer group  \n",
    "eventhub_name = os.environ[\"ehn_eventhub_name\"]\n",
    "  \n",
    "events_count = 0  \n",
    "  \n",
    "def on_event(partition_context, event):  \n",
    "    global events_count  \n",
    "    events_count += 1  \n",
    "    print(f\"Received event {events_count} from partition: {partition_context.partition_id}. Event data: {event.body_as_str()}\")  \n",
    "      \n",
    "    # Update checkpoint to mark this event as processed  \n",
    "    partition_context.update_checkpoint(event)  \n",
    "  \n",
    "# Initialize the EventHubConsumerClient  \n",
    "client = EventHubConsumerClient.from_connection_string(  \n",
    "    connection_str,  \n",
    "    consumer_group,  \n",
    "    eventhub_name=eventhub_name\n",
    ")  \n",
    "  \n",
    "# Use the client within a context manager to ensure proper resource cleanup  \n",
    "with client:  \n",
    "    client.receive(  \n",
    "        on_event=on_event,  \n",
    "        starting_position=\"@latest\",  # \"-1\" is from the beginning of the partition, \"@latest\" means after the consumer starts\n",
    "    )  "
   ]
  },
  {
   "cell_type": "markdown",
   "id": "c126fc83-3e27-4003-9510-a6c3b9494158",
   "metadata": {},
   "source": [
    "# Consumer client (with Blob Checkpoint)"
   ]
  },
  {
   "cell_type": "code",
   "execution_count": null,
   "id": "a746f175-bac3-4c4f-9b77-7ddf3fcd3a7c",
   "metadata": {},
   "outputs": [],
   "source": [
    "import os  \n",
    "from azure.eventhub import EventHubConsumerClient\n",
    "from azure.eventhub.extensions.checkpointstoreblob import BlobCheckpointStore\n",
    "  \n",
    "# Fetch connection details from environment variables  \n",
    "connection_str = os.environ[\"ehn_connection_string\"]  \n",
    "consumer_group = os.environ[\"ehn_consumer_group\"]  # Default consumer group  \n",
    "eventhub_name = os.environ[\"ehn_eventhub_name\"]\n",
    "storage_connection_str = os.environ[\"ehn_storage_connection_string\"]\n",
    "container_name = \"eventhub-checkpoints\"\n",
    "\n",
    "# Setup the checkpoint store  \n",
    "checkpoint_store = BlobCheckpointStore.from_connection_string(storage_connection_str, container_name)\n",
    "  \n",
    "events_count = 0  \n",
    "  \n",
    "def on_event(partition_context, event):  \n",
    "    global events_count  \n",
    "    events_count += 1  \n",
    "    print(f\"Received event {events_count} from partition: {partition_context.partition_id}. Event data: {event.body_as_str()}\")  \n",
    "      \n",
    "    # Update checkpoint to mark this event as processed  \n",
    "    partition_context.update_checkpoint(event)  \n",
    "  \n",
    "# Initialize the EventHubConsumerClient  \n",
    "client = EventHubConsumerClient.from_connection_string(  \n",
    "    connection_str,  \n",
    "    consumer_group,  \n",
    "    eventhub_name=eventhub_name,  # Pass eventhub_name as a keyword argument  \n",
    "    checkpoint_store=checkpoint_store\n",
    ")  \n",
    "  \n",
    "# Use the client within a context manager to ensure proper resource cleanup  \n",
    "with client:  \n",
    "    client.receive(  \n",
    "        on_event=on_event,  \n",
    "        starting_position=\"@latest\",  # \"-1\" is from the beginning of the partition, \"@latest\" means after the consumer starts\n",
    "    )  "
   ]
  }
 ],
 "metadata": {
  "kernelspec": {
   "display_name": "event_hubs",
   "language": "python",
   "name": "event_hubs"
  },
  "language_info": {
   "codemirror_mode": {
    "name": "ipython",
    "version": 3
   },
   "file_extension": ".py",
   "mimetype": "text/x-python",
   "name": "python",
   "nbconvert_exporter": "python",
   "pygments_lexer": "ipython3",
   "version": "3.12.8"
  },
  "polyglot_notebook": {
   "kernelInfo": {
    "defaultKernelName": "csharp",
    "items": [
     {
      "aliases": [],
      "name": "csharp"
     }
    ]
   }
  }
 },
 "nbformat": 4,
 "nbformat_minor": 5
}
